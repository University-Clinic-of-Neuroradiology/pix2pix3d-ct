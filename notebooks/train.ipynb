{
 "cells": [
  {
   "cell_type": "markdown",
   "metadata": {},
   "source": [
    "# Setting"
   ]
  },
  {
   "cell_type": "code",
   "execution_count": 1,
   "metadata": {},
   "outputs": [],
   "source": [
    "import ast\n",
    "import csv\n",
    "import glob\n",
    "from io import StringIO\n",
    "import json\n",
    "import matplotlib.pyplot as plt\n",
    "import numpy as np\n",
    "import os\n",
    "import pandas as pd\n",
    "import pydicom\n",
    "import time\n",
    "from tqdm import tqdm_notebook\n",
    "from tqdm import trange\n",
    "\n",
    "from source.data_loader import MyDataLoader\n",
    "from source.my3dpix2pix import My3dPix2Pix"
   ]
  },
  {
   "cell_type": "markdown",
   "metadata": {},
   "source": [
    "# Dataframe from dicoms\n",
    "dicom/YOURDATASET should be in following format:<br>\n",
    "YOURDATASET<br>\n",
    "&nbsp;&nbsp;&nbsp;&nbsp;case1<br>\n",
    "&nbsp;&nbsp;&nbsp;&nbsp;&nbsp;&nbsp;&nbsp;&nbsp;CT1 containing dicom files<br>\n",
    "&nbsp;&nbsp;&nbsp;&nbsp;&nbsp;&nbsp;&nbsp;&nbsp;CT2 containing dicom files<br>\n",
    "&nbsp;&nbsp;&nbsp;&nbsp;case2<br>\n",
    "&nbsp;&nbsp;&nbsp;&nbsp;&nbsp;&nbsp;&nbsp;&nbsp;CT1 containing dicom files<br>\n",
    "&nbsp;&nbsp;&nbsp;&nbsp;&nbsp;&nbsp;&nbsp;&nbsp;CT2 containing dicom files<br>\n",
    "&nbsp;&nbsp;&nbsp;&nbsp;..."
   ]
  },
  {
   "cell_type": "code",
   "execution_count": 2,
   "metadata": {},
   "outputs": [],
   "source": [
    "def my_dicoms_to_dataframe(basedir, cts):\n",
    "    caselist = [os.path.join(basedir, x) for x in os.listdir(basedir) if os.path.isdir(os.path.join(basedir, x))]\n",
    "    file_list = []\n",
    "    for x in cts:\n",
    "        file_list.extend(glob.glob(os.path.join(basedir, '*/' + x + '/*.*')))\n",
    "\n",
    "    tdcmpath = os.path.join(caselist[0], cts[0])\n",
    "    tdcmpath = [os.path.join(tdcmpath, x) for x in os.listdir(tdcmpath)][0]\n",
    "    # tdcmpath = [os.path.join(tdcmpath, x) for x in os.listdir(tdcmpath) if x.lower().endswith('.dcm')][0]\n",
    "    tdcm = pydicom.dcmread(tdcmpath, stop_before_pixels=True)\n",
    "\n",
    "    headers = []\n",
    "    headers.append('filepath')\n",
    "\n",
    "    for x in tdcm:\n",
    "        if x.name == 'Pixel Data':\n",
    "            continue\n",
    "        elif 'Overlay' in x.name or 'Referring' in x.name or 'Acquisition' in x.name:\n",
    "            continue\n",
    "        else:\n",
    "            name = x.name.replace(' ', '')\n",
    "            headers.append(name)\n",
    "\n",
    "    output = StringIO()\n",
    "    csv_writer = csv.DictWriter(output, fieldnames=headers)\n",
    "    csv_writer.writeheader()\n",
    "\n",
    "    for f in file_list:\n",
    "        file = pydicom.dcmread(f, stop_before_pixels=True)\n",
    "\n",
    "        row = {}\n",
    "        for x in file:\n",
    "            row['filepath'] = f\n",
    "            if x.name == 'Pixel Data':\n",
    "                continue\n",
    "            elif 'Overlay' in x.name or 'Referring' in x.name or 'Acquisition' in x.name:\n",
    "                continue\n",
    "            else:\n",
    "                name = x.name.replace(' ', '')\n",
    "                row[name] = x.value\n",
    "        unwanted = set(row) - set(headers)\n",
    "        for unwanted_key in unwanted: del row[unwanted_key]\n",
    "        csv_writer.writerow(row)\n",
    "\n",
    "    output.seek(0)  # we need to get back to the start of the StringIO\n",
    "    df = pd.read_csv(output, low_memory=False)\n",
    "\n",
    "    df['pid'] = df['filepath'].apply(lambda x: x.split(os.sep)[-3])\n",
    "    df['ct'] = df['filepath'].apply(lambda x: x.split(os.sep)[-2])\n",
    "    df['zpos'] = df['ImagePosition(Patient)'].apply(lambda x: [str(n).strip() for n in ast.literal_eval(x)][-1])\n",
    "\n",
    "    cols = df.columns.tolist()\n",
    "    cols = cols[-3:] + cols[:-3]\n",
    "    df = df[cols]\n",
    "\n",
    "    df.to_feather(os.path.join(basedir, 'headers.ftr'))\n",
    "    return df"
   ]
  },
  {
   "cell_type": "markdown",
   "metadata": {},
   "source": [
    "## Train data"
   ]
  },
  {
   "cell_type": "code",
   "execution_count": 3,
   "metadata": {},
   "outputs": [],
   "source": [
    "# CT1 = input, CT2 = output\n",
    "\n",
    "train_dir = 'C:/Users/einspaen/AppData/Local/xnat-dataset/cnn-train-test'\n",
    "cts = ('fill','sub')\n",
    "df = my_dicoms_to_dataframe(train_dir, cts)"
   ]
  },
  {
   "cell_type": "code",
   "execution_count": 4,
   "metadata": {},
   "outputs": [],
   "source": [
    "#### modify headers and save\n",
    "\n",
    "df['zpos'] = df['zpos'].apply(pd.to_numeric)\n",
    "df = df.sort_values(by=['pid', 'ct', 'zpos'])\n",
    "df2 = df.reset_index(drop=True)\n",
    "df2path = os.path.join(train_dir, 'select.ftr')\n",
    "df2.to_feather(df2path)"
   ]
  },
  {
   "cell_type": "markdown",
   "metadata": {},
   "source": [
    "## Validation data"
   ]
  },
  {
   "cell_type": "code",
   "execution_count": 5,
   "metadata": {},
   "outputs": [],
   "source": [
    "# CT1 = input, CT2 = output\n",
    "val_dir = 'C:/Users/einspaen/AppData/Local/xnat-dataset/cnn-validation-test'\n",
    "cts = ('fill','sub')\n",
    "df = my_dicoms_to_dataframe(val_dir, cts)"
   ]
  },
  {
   "cell_type": "code",
   "execution_count": 6,
   "metadata": {},
   "outputs": [],
   "source": [
    "#### modify headers and save\n",
    "\n",
    "df['zpos'] = df['zpos'].apply(pd.to_numeric)\n",
    "df = df.sort_values(by=['pid', 'ct', 'zpos'])\n",
    "df2 = df.reset_index(drop=True)\n",
    "df2path = os.path.join(val_dir, 'select.ftr')\n",
    "df2.to_feather(df2path)"
   ]
  },
  {
   "cell_type": "markdown",
   "metadata": {},
   "source": [
    "# Get data loader"
   ]
  },
  {
   "cell_type": "markdown",
   "metadata": {},
   "source": [
    "## For new configuration and new result folder"
   ]
  },
  {
   "cell_type": "code",
   "execution_count": 7,
   "metadata": {},
   "outputs": [],
   "source": [
    "## new config\n",
    "import config as c\n",
    "\n",
    "base_dir = 'C:/Users/einspaen/AppData/Local/xnat-dataset'\n",
    "train_dir = 'C:/Users/einspaen/AppData/Local/xnat-dataset/cnn-train-test'\n",
    "val_dir = 'C:/Users/einspaen/AppData/Local/xnat-dataset/cnn-validation-test'\n",
    "\n",
    "cfg = {\n",
    "    'df_path': os.path.join(train_dir, 'select.ftr'),\n",
    "    'cts':('fill','sub'),\n",
    "    'img_shape':c.img_shape,\n",
    "    'window1':[(2000,0),(1000,200),(500,50)],\n",
    "    'window2':[(2000,0),(1000,200),(500,50)],\n",
    "    'batch_size':1,\n",
    "    'epochs':2,\n",
    "    'opt':'adam',\n",
    "    'lrs':(0.0002, 0.1),\n",
    "    'L_weights':(1,100),\n",
    "    'sample_interval':8,\n",
    "    'model_interval':5,\n",
    "    ## default\n",
    "    'grid':(1,1,1),\n",
    "    'splitvar':1.0,\n",
    "    'resizeconv':True,\n",
    "    'smoothlabel':True,\n",
    "    'rescale_intensity':False,\n",
    "    ## below not used\n",
    "    'coordconv':False,\n",
    "    'randomshift':0.1,\n",
    "    'gennoise':0,\n",
    "    'dropout':0.0,\n",
    "    'resoutput':0.0,\n",
    "    'fmloss':False,\n",
    "    'multigpu':None,\n",
    "}"
   ]
  },
  {
   "cell_type": "code",
   "execution_count": 8,
   "metadata": {},
   "outputs": [],
   "source": [
    "df0 = pd.read_feather(cfg['df_path'])"
   ]
  },
  {
   "cell_type": "code",
   "execution_count": 9,
   "metadata": {},
   "outputs": [
    {
     "name": "stdout",
     "output_type": "stream",
     "text": [
      "Start: Load Data\n",
      "pid\n",
      "163284441-2    394\n",
      "164339612-3    394\n",
      "Name: slice_num, dtype: int32\n",
      "[('163284441-2', 394), ('164339612-3', 394)]\n",
      "Finish: Load Data\n"
     ]
    }
   ],
   "source": [
    "print('Start: Load Data')\n",
    "DL = MyDataLoader(df0, cts=cfg['cts'], img_shape=cfg['img_shape'],\n",
    "                  grid=cfg['grid'],\n",
    "                  window1=cfg['window1'], window2=cfg['window2'], rescale_intensity=cfg['rescale_intensity'], splitvar=cfg['splitvar'])\n",
    "print('Finish: Load Data')\n"
   ]
  },
  {
   "cell_type": "code",
   "execution_count": 10,
   "metadata": {},
   "outputs": [],
   "source": [
    "### save new config in new folder\n",
    "\n",
    "spath = base_dir + '/result'\n",
    "if not os.path.isdir(spath):\n",
    "    os.makedirs(spath)\n",
    "    \n",
    "split_path = os.path.join(spath, 'split.pkl')\n",
    "DL.save_split(split_path)\n",
    "cfg['splitvar'] = split_path\n",
    "    \n",
    "with open(os.path.join(spath,'cfg.json'), 'w') as json_file:\n",
    "    json.dump(cfg, json_file)"
   ]
  },
  {
   "cell_type": "code",
   "execution_count": 11,
   "metadata": {},
   "outputs": [
    {
     "name": "stdout",
     "output_type": "stream",
     "text": [
      "Optimizer:  <keras.src.optimizers.adam.Adam object at 0x000001A6555C1220>\n"
     ]
    }
   ],
   "source": [
    "gan = My3dPix2Pix(DL, savepath=spath, L_weights=cfg['L_weights'], opt=cfg['opt'], lrs=cfg['lrs'],\n",
    "                  smoothlabel=cfg['smoothlabel'], fmloss=cfg['fmloss'],\n",
    "                  gennoise=cfg['gennoise'],\n",
    "                  randomshift=cfg['randomshift'], resoutput=cfg['resoutput'], dropout=cfg['dropout'],\n",
    "                  coordconv=cfg['coordconv'], resizeconv=cfg['resizeconv'], multigpu=cfg['multigpu'])"
   ]
  },
  {
   "cell_type": "markdown",
   "metadata": {},
   "source": [
    "## Load from saved"
   ]
  },
  {
   "cell_type": "code",
   "execution_count": null,
   "metadata": {},
   "outputs": [],
   "source": [
    "## load config\n",
    "spath = 'result/YOURFOLDER'\n",
    "with open(os.path.join(spath, 'cfg.json')) as json_file:\n",
    "    cfg = json.load(json_file)"
   ]
  },
  {
   "cell_type": "code",
   "execution_count": null,
   "metadata": {},
   "outputs": [],
   "source": [
    "%%time\n",
    "df0 = pd.read_feather(cfg['df_path'])\n",
    "DL = MyDataLoader(df0, cts=cfg['cts'], img_shape=cfg['img_shape'],\n",
    "                  grid=cfg['grid'],\n",
    "                  window1=cfg['window1'], window2=cfg['window2'], rescale_intensity=cfg['rescale_intensity'], splitvar=cfg['splitvar'])"
   ]
  },
  {
   "cell_type": "code",
   "execution_count": null,
   "metadata": {},
   "outputs": [],
   "source": [
    "%%time\n",
    "gan = My3dPix2Pix(DL, savepath=spath, L_weights=cfg['L_weights'], opt=cfg['opt'], lrs=cfg['lrs'],\n",
    "                  smoothlabel=cfg['smoothlabel'], fmloss=cfg['fmloss'],\n",
    "                  gennoise=cfg['gennoise'],\n",
    "                  randomshift=cfg['randomshift'], resoutput=cfg['resoutput'], dropout=cfg['dropout'],\n",
    "                  coordconv=cfg['coordconv'], resizeconv=cfg['resizeconv'], multigpu=cfg['multigpu'])"
   ]
  },
  {
   "cell_type": "markdown",
   "metadata": {},
   "source": [
    "# Train"
   ]
  },
  {
   "cell_type": "code",
   "execution_count": 12,
   "metadata": {},
   "outputs": [
    {
     "name": "stdout",
     "output_type": "stream",
     "text": [
      "1/1 [==============================] - 4s 4s/step\n",
      "[Epoch 1/2] [Batch 1/79152150] [D loss: 8.847814, D fake: 8.076205] [G loss: 0.000000] time: 0:00:15.437541\n",
      "1/1 [==============================] - 4s 4s/step\n",
      "[Epoch 1/2] [Batch 2/79152150] [D loss: 0.382920, D fake: 0.000752] [G loss: 0.000000] time: 0:00:22.241136\n",
      "1/1 [==============================] - 5s 5s/step\n",
      "[Epoch 1/2] [Batch 3/79152150] [D loss: 9.831788, D fake: 0.068232] [G loss: 0.000000] time: 0:00:30.019121\n",
      "1/1 [==============================] - 4s 4s/step\n",
      "[Epoch 1/2] [Batch 4/79152150] [D loss: 0.579930, D fake: 0.055552] [G loss: 0.000000] time: 0:00:36.607573\n",
      "1/1 [==============================] - 4s 4s/step\n",
      "[Epoch 1/2] [Batch 5/79152150] [D loss: 0.483804, D fake: 0.008269] [G loss: 0.000000] time: 0:00:42.512721\n",
      "1/1 [==============================] - 4s 4s/step\n",
      "[Epoch 1/2] [Batch 6/79152150] [D loss: 0.395461, D fake: 0.029507] [G loss: 0.000000] time: 0:00:48.406950\n",
      "1/1 [==============================] - 4s 4s/step\n",
      "[Epoch 1/2] [Batch 7/79152150] [D loss: 0.294357, D fake: 0.034693] [G loss: 0.000000] time: 0:00:54.296220\n",
      "1/1 [==============================] - 4s 4s/step\n",
      "[Epoch 1/2] [Batch 8/79152150] [D loss: 0.193519, D fake: 0.002965] [G loss: 0.000000] time: 0:01:00.275695\n",
      "1/1 [==============================] - 3s 3s/step\n",
      "1/1 [==============================] - 3s 3s/step\n",
      "1/1 [==============================] - 4s 4s/step\n",
      "saved temp.h5 to C:/Users/einspaen/AppData/Local/xnat-dataset/result\\models\n",
      "1/1 [==============================] - 4s 4s/step\n",
      "[Epoch 1/2] [Batch 9/79152150] [D loss: 0.148073, D fake: 0.003952] [G loss: 0.000000] time: 0:01:22.531787\n",
      "1/1 [==============================] - 4s 4s/step\n",
      "[Epoch 1/2] [Batch 10/79152150] [D loss: 0.130443, D fake: 0.007432] [G loss: 0.000000] time: 0:01:28.453253\n",
      "1/1 [==============================] - 4s 4s/step\n",
      "[Epoch 1/2] [Batch 11/79152150] [D loss: 0.138682, D fake: 0.018114] [G loss: 0.000000] time: 0:01:34.438667\n",
      "1/1 [==============================] - 4s 4s/step\n",
      "[Epoch 1/2] [Batch 12/79152150] [D loss: 0.122584, D fake: 0.008618] [G loss: 0.000000] time: 0:01:40.279851\n",
      "1/1 [==============================] - 4s 4s/step\n",
      "[Epoch 1/2] [Batch 13/79152150] [D loss: 0.114319, D fake: 0.001699] [G loss: 0.000000] time: 0:01:46.233889\n",
      "1/1 [==============================] - 4s 4s/step\n",
      "[Epoch 1/2] [Batch 14/79152150] [D loss: 0.114731, D fake: 0.003763] [G loss: 0.000000] time: 0:01:52.242488\n",
      "1/1 [==============================] - 4s 4s/step\n",
      "[Epoch 1/2] [Batch 15/79152150] [D loss: 0.110621, D fake: 0.001637] [G loss: 0.000000] time: 0:01:58.176460\n",
      "1/1 [==============================] - 4s 4s/step\n",
      "[Epoch 1/2] [Batch 16/79152150] [D loss: 0.112383, D fake: 0.001681] [G loss: 0.000000] time: 0:02:04.118081\n",
      "1/1 [==============================] - 3s 3s/step\n",
      "1/1 [==============================] - 3s 3s/step\n",
      "1/1 [==============================] - 3s 3s/step\n",
      "saved temp.h5 to C:/Users/einspaen/AppData/Local/xnat-dataset/result\\models\n",
      "1/1 [==============================] - 4s 4s/step\n",
      "[Epoch 1/2] [Batch 17/79152150] [D loss: 0.113813, D fake: 0.000557] [G loss: 0.000000] time: 0:02:26.395812\n",
      "1/1 [==============================] - 4s 4s/step\n",
      "[Epoch 1/2] [Batch 18/79152150] [D loss: 0.150466, D fake: 0.001895] [G loss: 0.000000] time: 0:02:32.311231\n",
      "1/1 [==============================] - 4s 4s/step\n",
      "[Epoch 1/2] [Batch 19/79152150] [D loss: 0.109000, D fake: 0.001261] [G loss: 0.000000] time: 0:02:38.303932\n"
     ]
    },
    {
     "ename": "KeyboardInterrupt",
     "evalue": "",
     "output_type": "error",
     "traceback": [
      "\u001b[1;31m---------------------------------------------------------------------------\u001b[0m",
      "\u001b[1;31mKeyboardInterrupt\u001b[0m                         Traceback (most recent call last)",
      "Cell \u001b[1;32mIn[12], line 1\u001b[0m\n\u001b[1;32m----> 1\u001b[0m gan\u001b[39m.\u001b[39;49mtrain(epochs\u001b[39m=\u001b[39;49mcfg[\u001b[39m'\u001b[39;49m\u001b[39mepochs\u001b[39;49m\u001b[39m'\u001b[39;49m], batch_size\u001b[39m=\u001b[39;49mcfg[\u001b[39m'\u001b[39;49m\u001b[39mbatch_size\u001b[39;49m\u001b[39m'\u001b[39;49m], sample_interval\u001b[39m=\u001b[39;49mcfg[\u001b[39m'\u001b[39;49m\u001b[39msample_interval\u001b[39;49m\u001b[39m'\u001b[39;49m], model_interval\u001b[39m=\u001b[39;49mcfg[\u001b[39m'\u001b[39;49m\u001b[39mmodel_interval\u001b[39;49m\u001b[39m'\u001b[39;49m])\n",
      "File \u001b[1;32mx:\\Eigene Dateien\\GitHub\\pix2pix3d-ct\\source\\my3dpix2pix.py:440\u001b[0m, in \u001b[0;36mMy3dPix2Pix.train\u001b[1;34m(self, epochs, batch_size, sample_interval, model_interval, epoch_start)\u001b[0m\n\u001b[0;32m    437\u001b[0m imgs_A, imgs_B \u001b[39m=\u001b[39m \u001b[39mself\u001b[39m\u001b[39m.\u001b[39mgenerate_noise(\u001b[39mself\u001b[39m\u001b[39m.\u001b[39mgennoise, imgs_A, imgs_B)\n\u001b[0;32m    439\u001b[0m \u001b[39m# Condition on B and generate a translated version\u001b[39;00m\n\u001b[1;32m--> 440\u001b[0m fake_A \u001b[39m=\u001b[39m \u001b[39mself\u001b[39;49m\u001b[39m.\u001b[39;49mgenerator\u001b[39m.\u001b[39;49mpredict(imgs_B)\n\u001b[0;32m    442\u001b[0m \u001b[39m# Train the discriminators (original images = real / generated = Fake)\u001b[39;00m\n\u001b[0;32m    443\u001b[0m d_loss_real \u001b[39m=\u001b[39m \u001b[39mself\u001b[39m\u001b[39m.\u001b[39mdiscriminator\u001b[39m.\u001b[39mtrain_on_batch([imgs_A, imgs_B], valid)\n",
      "File \u001b[1;32mc:\\Users\\einspaen\\AppData\\Local\\miniconda3\\envs\\pix2pix3d\\lib\\site-packages\\keras\\src\\utils\\traceback_utils.py:65\u001b[0m, in \u001b[0;36mfilter_traceback.<locals>.error_handler\u001b[1;34m(*args, **kwargs)\u001b[0m\n\u001b[0;32m     63\u001b[0m filtered_tb \u001b[39m=\u001b[39m \u001b[39mNone\u001b[39;00m\n\u001b[0;32m     64\u001b[0m \u001b[39mtry\u001b[39;00m:\n\u001b[1;32m---> 65\u001b[0m     \u001b[39mreturn\u001b[39;00m fn(\u001b[39m*\u001b[39margs, \u001b[39m*\u001b[39m\u001b[39m*\u001b[39mkwargs)\n\u001b[0;32m     66\u001b[0m \u001b[39mexcept\u001b[39;00m \u001b[39mException\u001b[39;00m \u001b[39mas\u001b[39;00m e:\n\u001b[0;32m     67\u001b[0m     filtered_tb \u001b[39m=\u001b[39m _process_traceback_frames(e\u001b[39m.\u001b[39m__traceback__)\n",
      "File \u001b[1;32mc:\\Users\\einspaen\\AppData\\Local\\miniconda3\\envs\\pix2pix3d\\lib\\site-packages\\keras\\src\\engine\\training.py:2554\u001b[0m, in \u001b[0;36mModel.predict\u001b[1;34m(self, x, batch_size, verbose, steps, callbacks, max_queue_size, workers, use_multiprocessing)\u001b[0m\n\u001b[0;32m   2552\u001b[0m \u001b[39mfor\u001b[39;00m step \u001b[39min\u001b[39;00m data_handler\u001b[39m.\u001b[39msteps():\n\u001b[0;32m   2553\u001b[0m     callbacks\u001b[39m.\u001b[39mon_predict_batch_begin(step)\n\u001b[1;32m-> 2554\u001b[0m     tmp_batch_outputs \u001b[39m=\u001b[39m \u001b[39mself\u001b[39;49m\u001b[39m.\u001b[39;49mpredict_function(iterator)\n\u001b[0;32m   2555\u001b[0m     \u001b[39mif\u001b[39;00m data_handler\u001b[39m.\u001b[39mshould_sync:\n\u001b[0;32m   2556\u001b[0m         context\u001b[39m.\u001b[39masync_wait()\n",
      "File \u001b[1;32mc:\\Users\\einspaen\\AppData\\Local\\miniconda3\\envs\\pix2pix3d\\lib\\site-packages\\tensorflow\\python\\util\\traceback_utils.py:150\u001b[0m, in \u001b[0;36mfilter_traceback.<locals>.error_handler\u001b[1;34m(*args, **kwargs)\u001b[0m\n\u001b[0;32m    148\u001b[0m filtered_tb \u001b[39m=\u001b[39m \u001b[39mNone\u001b[39;00m\n\u001b[0;32m    149\u001b[0m \u001b[39mtry\u001b[39;00m:\n\u001b[1;32m--> 150\u001b[0m   \u001b[39mreturn\u001b[39;00m fn(\u001b[39m*\u001b[39margs, \u001b[39m*\u001b[39m\u001b[39m*\u001b[39mkwargs)\n\u001b[0;32m    151\u001b[0m \u001b[39mexcept\u001b[39;00m \u001b[39mException\u001b[39;00m \u001b[39mas\u001b[39;00m e:\n\u001b[0;32m    152\u001b[0m   filtered_tb \u001b[39m=\u001b[39m _process_traceback_frames(e\u001b[39m.\u001b[39m__traceback__)\n",
      "File \u001b[1;32mc:\\Users\\einspaen\\AppData\\Local\\miniconda3\\envs\\pix2pix3d\\lib\\site-packages\\tensorflow\\python\\eager\\polymorphic_function\\polymorphic_function.py:825\u001b[0m, in \u001b[0;36mFunction.__call__\u001b[1;34m(self, *args, **kwds)\u001b[0m\n\u001b[0;32m    822\u001b[0m compiler \u001b[39m=\u001b[39m \u001b[39m\"\u001b[39m\u001b[39mxla\u001b[39m\u001b[39m\"\u001b[39m \u001b[39mif\u001b[39;00m \u001b[39mself\u001b[39m\u001b[39m.\u001b[39m_jit_compile \u001b[39melse\u001b[39;00m \u001b[39m\"\u001b[39m\u001b[39mnonXla\u001b[39m\u001b[39m\"\u001b[39m\n\u001b[0;32m    824\u001b[0m \u001b[39mwith\u001b[39;00m OptionalXlaContext(\u001b[39mself\u001b[39m\u001b[39m.\u001b[39m_jit_compile):\n\u001b[1;32m--> 825\u001b[0m   result \u001b[39m=\u001b[39m \u001b[39mself\u001b[39m\u001b[39m.\u001b[39m_call(\u001b[39m*\u001b[39margs, \u001b[39m*\u001b[39m\u001b[39m*\u001b[39mkwds)\n\u001b[0;32m    827\u001b[0m new_tracing_count \u001b[39m=\u001b[39m \u001b[39mself\u001b[39m\u001b[39m.\u001b[39mexperimental_get_tracing_count()\n\u001b[0;32m    828\u001b[0m without_tracing \u001b[39m=\u001b[39m (tracing_count \u001b[39m==\u001b[39m new_tracing_count)\n",
      "File \u001b[1;32mc:\\Users\\einspaen\\AppData\\Local\\miniconda3\\envs\\pix2pix3d\\lib\\site-packages\\tensorflow\\python\\eager\\polymorphic_function\\polymorphic_function.py:864\u001b[0m, in \u001b[0;36mFunction._call\u001b[1;34m(self, *args, **kwds)\u001b[0m\n\u001b[0;32m    861\u001b[0m \u001b[39mself\u001b[39m\u001b[39m.\u001b[39m_lock\u001b[39m.\u001b[39mrelease()\n\u001b[0;32m    862\u001b[0m \u001b[39m# In this case we have not created variables on the first call. So we can\u001b[39;00m\n\u001b[0;32m    863\u001b[0m \u001b[39m# run the first trace but we should fail if variables are created.\u001b[39;00m\n\u001b[1;32m--> 864\u001b[0m results \u001b[39m=\u001b[39m \u001b[39mself\u001b[39m\u001b[39m.\u001b[39m_variable_creation_fn(\u001b[39m*\u001b[39margs, \u001b[39m*\u001b[39m\u001b[39m*\u001b[39mkwds)\n\u001b[0;32m    865\u001b[0m \u001b[39mif\u001b[39;00m \u001b[39mself\u001b[39m\u001b[39m.\u001b[39m_created_variables \u001b[39mand\u001b[39;00m \u001b[39mnot\u001b[39;00m ALLOW_DYNAMIC_VARIABLE_CREATION:\n\u001b[0;32m    866\u001b[0m   \u001b[39mraise\u001b[39;00m \u001b[39mValueError\u001b[39;00m(\u001b[39m\"\u001b[39m\u001b[39mCreating variables on a non-first call to a function\u001b[39m\u001b[39m\"\u001b[39m\n\u001b[0;32m    867\u001b[0m                    \u001b[39m\"\u001b[39m\u001b[39m decorated with tf.function.\u001b[39m\u001b[39m\"\u001b[39m)\n",
      "File \u001b[1;32mc:\\Users\\einspaen\\AppData\\Local\\miniconda3\\envs\\pix2pix3d\\lib\\site-packages\\tensorflow\\python\\eager\\polymorphic_function\\tracing_compiler.py:148\u001b[0m, in \u001b[0;36mTracingCompiler.__call__\u001b[1;34m(self, *args, **kwargs)\u001b[0m\n\u001b[0;32m    145\u001b[0m \u001b[39mwith\u001b[39;00m \u001b[39mself\u001b[39m\u001b[39m.\u001b[39m_lock:\n\u001b[0;32m    146\u001b[0m   (concrete_function,\n\u001b[0;32m    147\u001b[0m    filtered_flat_args) \u001b[39m=\u001b[39m \u001b[39mself\u001b[39m\u001b[39m.\u001b[39m_maybe_define_function(args, kwargs)\n\u001b[1;32m--> 148\u001b[0m \u001b[39mreturn\u001b[39;00m concrete_function\u001b[39m.\u001b[39;49m_call_flat(\n\u001b[0;32m    149\u001b[0m     filtered_flat_args, captured_inputs\u001b[39m=\u001b[39;49mconcrete_function\u001b[39m.\u001b[39;49mcaptured_inputs)\n",
      "File \u001b[1;32mc:\\Users\\einspaen\\AppData\\Local\\miniconda3\\envs\\pix2pix3d\\lib\\site-packages\\tensorflow\\python\\eager\\polymorphic_function\\monomorphic_function.py:1349\u001b[0m, in \u001b[0;36mConcreteFunction._call_flat\u001b[1;34m(self, args, captured_inputs)\u001b[0m\n\u001b[0;32m   1345\u001b[0m possible_gradient_type \u001b[39m=\u001b[39m gradients_util\u001b[39m.\u001b[39mPossibleTapeGradientTypes(args)\n\u001b[0;32m   1346\u001b[0m \u001b[39mif\u001b[39;00m (possible_gradient_type \u001b[39m==\u001b[39m gradients_util\u001b[39m.\u001b[39mPOSSIBLE_GRADIENT_TYPES_NONE\n\u001b[0;32m   1347\u001b[0m     \u001b[39mand\u001b[39;00m executing_eagerly):\n\u001b[0;32m   1348\u001b[0m   \u001b[39m# No tape is watching; skip to running the function.\u001b[39;00m\n\u001b[1;32m-> 1349\u001b[0m   \u001b[39mreturn\u001b[39;00m \u001b[39mself\u001b[39m\u001b[39m.\u001b[39m_build_call_outputs(\u001b[39mself\u001b[39;49m\u001b[39m.\u001b[39;49m_inference_function(\u001b[39m*\u001b[39;49margs))\n\u001b[0;32m   1350\u001b[0m forward_backward \u001b[39m=\u001b[39m \u001b[39mself\u001b[39m\u001b[39m.\u001b[39m_select_forward_and_backward_functions(\n\u001b[0;32m   1351\u001b[0m     args,\n\u001b[0;32m   1352\u001b[0m     possible_gradient_type,\n\u001b[0;32m   1353\u001b[0m     executing_eagerly)\n\u001b[0;32m   1354\u001b[0m forward_function, args_with_tangents \u001b[39m=\u001b[39m forward_backward\u001b[39m.\u001b[39mforward()\n",
      "File \u001b[1;32mc:\\Users\\einspaen\\AppData\\Local\\miniconda3\\envs\\pix2pix3d\\lib\\site-packages\\tensorflow\\python\\eager\\polymorphic_function\\atomic_function.py:196\u001b[0m, in \u001b[0;36mAtomicFunction.__call__\u001b[1;34m(self, *args)\u001b[0m\n\u001b[0;32m    194\u001b[0m \u001b[39mwith\u001b[39;00m record\u001b[39m.\u001b[39mstop_recording():\n\u001b[0;32m    195\u001b[0m   \u001b[39mif\u001b[39;00m \u001b[39mself\u001b[39m\u001b[39m.\u001b[39m_bound_context\u001b[39m.\u001b[39mexecuting_eagerly():\n\u001b[1;32m--> 196\u001b[0m     outputs \u001b[39m=\u001b[39m \u001b[39mself\u001b[39;49m\u001b[39m.\u001b[39;49m_bound_context\u001b[39m.\u001b[39;49mcall_function(\n\u001b[0;32m    197\u001b[0m         \u001b[39mself\u001b[39;49m\u001b[39m.\u001b[39;49mname,\n\u001b[0;32m    198\u001b[0m         \u001b[39mlist\u001b[39;49m(args),\n\u001b[0;32m    199\u001b[0m         \u001b[39mlen\u001b[39;49m(\u001b[39mself\u001b[39;49m\u001b[39m.\u001b[39;49mfunction_type\u001b[39m.\u001b[39;49mflat_outputs),\n\u001b[0;32m    200\u001b[0m     )\n\u001b[0;32m    201\u001b[0m   \u001b[39melse\u001b[39;00m:\n\u001b[0;32m    202\u001b[0m     outputs \u001b[39m=\u001b[39m make_call_op_in_graph(\u001b[39mself\u001b[39m, \u001b[39mlist\u001b[39m(args))\n",
      "File \u001b[1;32mc:\\Users\\einspaen\\AppData\\Local\\miniconda3\\envs\\pix2pix3d\\lib\\site-packages\\tensorflow\\python\\eager\\context.py:1457\u001b[0m, in \u001b[0;36mContext.call_function\u001b[1;34m(self, name, tensor_inputs, num_outputs)\u001b[0m\n\u001b[0;32m   1455\u001b[0m cancellation_context \u001b[39m=\u001b[39m cancellation\u001b[39m.\u001b[39mcontext()\n\u001b[0;32m   1456\u001b[0m \u001b[39mif\u001b[39;00m cancellation_context \u001b[39mis\u001b[39;00m \u001b[39mNone\u001b[39;00m:\n\u001b[1;32m-> 1457\u001b[0m   outputs \u001b[39m=\u001b[39m execute\u001b[39m.\u001b[39;49mexecute(\n\u001b[0;32m   1458\u001b[0m       name\u001b[39m.\u001b[39;49mdecode(\u001b[39m\"\u001b[39;49m\u001b[39mutf-8\u001b[39;49m\u001b[39m\"\u001b[39;49m),\n\u001b[0;32m   1459\u001b[0m       num_outputs\u001b[39m=\u001b[39;49mnum_outputs,\n\u001b[0;32m   1460\u001b[0m       inputs\u001b[39m=\u001b[39;49mtensor_inputs,\n\u001b[0;32m   1461\u001b[0m       attrs\u001b[39m=\u001b[39;49mattrs,\n\u001b[0;32m   1462\u001b[0m       ctx\u001b[39m=\u001b[39;49m\u001b[39mself\u001b[39;49m,\n\u001b[0;32m   1463\u001b[0m   )\n\u001b[0;32m   1464\u001b[0m \u001b[39melse\u001b[39;00m:\n\u001b[0;32m   1465\u001b[0m   outputs \u001b[39m=\u001b[39m execute\u001b[39m.\u001b[39mexecute_with_cancellation(\n\u001b[0;32m   1466\u001b[0m       name\u001b[39m.\u001b[39mdecode(\u001b[39m\"\u001b[39m\u001b[39mutf-8\u001b[39m\u001b[39m\"\u001b[39m),\n\u001b[0;32m   1467\u001b[0m       num_outputs\u001b[39m=\u001b[39mnum_outputs,\n\u001b[1;32m   (...)\u001b[0m\n\u001b[0;32m   1471\u001b[0m       cancellation_manager\u001b[39m=\u001b[39mcancellation_context,\n\u001b[0;32m   1472\u001b[0m   )\n",
      "File \u001b[1;32mc:\\Users\\einspaen\\AppData\\Local\\miniconda3\\envs\\pix2pix3d\\lib\\site-packages\\tensorflow\\python\\eager\\execute.py:53\u001b[0m, in \u001b[0;36mquick_execute\u001b[1;34m(op_name, num_outputs, inputs, attrs, ctx, name)\u001b[0m\n\u001b[0;32m     51\u001b[0m \u001b[39mtry\u001b[39;00m:\n\u001b[0;32m     52\u001b[0m   ctx\u001b[39m.\u001b[39mensure_initialized()\n\u001b[1;32m---> 53\u001b[0m   tensors \u001b[39m=\u001b[39m pywrap_tfe\u001b[39m.\u001b[39;49mTFE_Py_Execute(ctx\u001b[39m.\u001b[39;49m_handle, device_name, op_name,\n\u001b[0;32m     54\u001b[0m                                       inputs, attrs, num_outputs)\n\u001b[0;32m     55\u001b[0m \u001b[39mexcept\u001b[39;00m core\u001b[39m.\u001b[39m_NotOkStatusException \u001b[39mas\u001b[39;00m e:\n\u001b[0;32m     56\u001b[0m   \u001b[39mif\u001b[39;00m name \u001b[39mis\u001b[39;00m \u001b[39mnot\u001b[39;00m \u001b[39mNone\u001b[39;00m:\n",
      "\u001b[1;31mKeyboardInterrupt\u001b[0m: "
     ]
    }
   ],
   "source": [
    "gan.train(epochs=cfg['epochs'], batch_size=cfg['batch_size'], sample_interval=cfg['sample_interval'], model_interval=cfg['model_interval'])"
   ]
  },
  {
   "cell_type": "code",
   "execution_count": null,
   "metadata": {},
   "outputs": [],
   "source": [
    "# view log\n",
    "#spath = 'result/YOURFOLDER'"
   ]
  },
  {
   "cell_type": "code",
   "execution_count": 13,
   "metadata": {},
   "outputs": [],
   "source": [
    "epoch = []\n",
    "batch = []\n",
    "dloss = []\n",
    "gloss = []\n",
    "time = []\n",
    "with open(os.path.join(spath,'log.txt'), 'r') as f:\n",
    "    for line in f.readlines():\n",
    "        line = line.strip()\n",
    "        e,b,d,g,t = line.split('] ')\n",
    "        e = e.replace('[Epoch ','').split('/')[0]\n",
    "        b = b.replace('[Batch ','').split('/')[0]\n",
    "        d = d.replace('[D loss: ','').split(',')[0]\n",
    "        g = g.replace('[G loss: ','')\n",
    "        t = t.replace('time: ','')\n",
    "        \n",
    "        epoch.append(int(e))\n",
    "        batch.append(int(b))\n",
    "        dloss.append(float(d))\n",
    "        gloss.append(float(g))\n",
    "        time.append(t)"
   ]
  },
  {
   "cell_type": "code",
   "execution_count": 16,
   "metadata": {},
   "outputs": [
    {
     "data": {
      "application/vnd.jupyter.widget-view+json": {
       "model_id": "7b04cd86c3fb42fba3e03c2538fd2747",
       "version_major": 2,
       "version_minor": 0
      },
      "image/png": "[encoded data removed]",
      "text/html": [
       "\n",
       "            <div style=\"display: inline-block;\">\n",
       "                <div class=\"jupyter-widgets widget-label\" style=\"text-align: center;\">\n",
       "                    Figure\n",
       "                </div>\n",
       "                <img src='data:image/png;base64,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' width=640.0/>\n",
       "            </div>\n",
       "        "
      ],
      "text/plain": [
       "Canvas(toolbar=Toolbar(toolitems=[('Home', 'Reset original view', 'home', 'home'), ('Back', 'Back to previous …"
      ]
     },
     "metadata": {},
     "output_type": "display_data"
    }
   ],
   "source": [
    "%matplotlib widget\n",
    "\n",
    "fig = plt.figure()\n",
    "ax = fig.add_subplot(111)\n",
    "\n",
    "x = np.arange(len(dloss)) + 1\n",
    "\n",
    "ax.plot(x, dloss, '-b', linewidth=0.1, label='d_loss')\n",
    "ax2 = ax.twinx()\n",
    "ax2.plot(x, gloss, '-r', linewidth=0.1, label='g_loss')\n",
    "ax.set_ylim(-0.1,10)\n",
    "ax2.set_ylim(-0.1,20)\n",
    "\n",
    "lines, labels = ax.get_legend_handles_labels()\n",
    "lines2, labels2 = ax2.get_legend_handles_labels()\n",
    "ax2.legend(lines + lines2, labels + labels2, loc='upper right')\n",
    "\n",
    "ax.set_title('model loss')\n",
    "ax.set_ylabel('d_loss')\n",
    "ax2.set_ylabel('g_loss')\n",
    "ax.set_xlabel('iteration')\n",
    "#fig.savefig(os.path.join(spath, 'loss.png'))\n",
    "plt.show()"
   ]
  },
  {
   "cell_type": "code",
   "execution_count": null,
   "metadata": {},
   "outputs": [],
   "source": []
  }
 ],
 "metadata": {
  "kernelspec": {
   "display_name": "Python 3",
   "language": "python",
   "name": "python3"
  },
  "language_info": {
   "codemirror_mode": {
    "name": "ipython",
    "version": 3
   },
   "file_extension": ".py",
   "mimetype": "text/x-python",
   "name": "python",
   "nbconvert_exporter": "python",
   "pygments_lexer": "ipython3",
   "version": "3.9.16"
  }
 },
 "nbformat": 4,
 "nbformat_minor": 4
}
